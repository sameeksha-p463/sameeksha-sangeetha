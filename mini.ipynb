{
 "cells": [
  {
   "cell_type": "code",
   "execution_count": null,
   "id": "3d100db6-2f27-425b-83db-36f12d18e17a",
   "metadata": {},
   "outputs": [
    {
     "name": "stdout",
     "output_type": "stream",
     "text": [
      "\t \t \t  r  =  Rock  :   p  =  Paper   :  s =  Scissor (....Enter Q to stop)  \n",
      "\n",
      "\n",
      "[ Your chances left: 10 ]\n"
     ]
    },
    {
     "name": "stdin",
     "output_type": "stream",
     "text": [
      "Enter Your Choice:  r\n"
     ]
    },
    {
     "name": "stdout",
     "output_type": "stream",
     "text": [
      "Computer choose: p\n",
      "Computer won... You lose!\n",
      "Score - You: 0 | Computer: 1\n",
      "\n",
      "[ Your chances left: 9 ]\n"
     ]
    }
   ],
   "source": [
    "import random \n",
    "\n",
    "total_input_left = 10\n",
    "no_of_computer_win = 0\n",
    "no_of_human_win = 0\n",
    "\n",
    "print(\"\\t \\t \\t  r  =  Rock  :   p  =  Paper   :  s =  Scissor (....Enter Q to stop)  \\n\")\n",
    "\n",
    "while total_input_left > 0:\n",
    "    print(f\"\\n[ Your chances left: {total_input_left} ]\")\n",
    "    total_input_left -= 1\n",
    "    human_input = input(\"Enter Your Choice: \").lower()\n",
    "    \n",
    "    if human_input == \"q\":\n",
    "        print(\".........GAME END.........\")\n",
    "        break\n",
    "    \n",
    "    if human_input not in [\"r\", \"p\", \"s\"]:\n",
    "        print(\"Invalid input! Please enter 'r', 'p', or 's'.\")\n",
    "        total_input_left += 1  # Revert the decrement for invalid input\n",
    "        continue\n",
    "\n",
    "    computer_input = random.choice([\"r\", \"p\", \"s\"])\n",
    "\n",
    "    print(f\"Computer choose: {computer_input}\")\n",
    "\n",
    "    if human_input == computer_input:\n",
    "        print(\"It's a tie!\")\n",
    "    elif (human_input == 'r' and computer_input == 's') or \\\n",
    "         (human_input == 'p' and computer_input == 'r') or \\\n",
    "         (human_input == 's' and computer_input == 'p'):\n",
    "        print(\"You Won!\")\n",
    "        no_of_human_win += 1\n",
    "    else:\n",
    "        print(\"Computer won... You lose!\")\n",
    "        no_of_computer_win += 1\n",
    "\n",
    "    print(f\"Score - You: {no_of_human_win} | Computer: {no_of_computer_win}\")\n",
    "\n",
    "print(\"Final Score:\")\n",
    "print(f\"You: {no_of_human_win}\")\n",
    "print(f\"Computer: {no_of_computer_win}\")"
   ]
  },
  {
   "cell_type": "code",
   "execution_count": null,
   "id": "5b005b3e-f8aa-4e02-890c-8c21c06ec3a4",
   "metadata": {},
   "outputs": [],
   "source": []
  }
 ],
 "metadata": {
  "kernelspec": {
   "display_name": "Python 3 (ipykernel)",
   "language": "python",
   "name": "python3"
  },
  "language_info": {
   "codemirror_mode": {
    "name": "ipython",
    "version": 3
   },
   "file_extension": ".py",
   "mimetype": "text/x-python",
   "name": "python",
   "nbconvert_exporter": "python",
   "pygments_lexer": "ipython3",
   "version": "3.12.4"
  }
 },
 "nbformat": 4,
 "nbformat_minor": 5
}
